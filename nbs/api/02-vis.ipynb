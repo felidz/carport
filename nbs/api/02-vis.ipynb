{
 "cells": [
  {
   "cell_type": "markdown",
   "metadata": {},
   "source": [
    "# vis"
   ]
  },
  {
   "cell_type": "markdown",
   "metadata": {},
   "source": [
    "Visualization module for carport."
   ]
  },
  {
   "cell_type": "code",
   "execution_count": null,
   "metadata": {},
   "outputs": [],
   "source": [
    "#| hide\n",
    "from nbdev.showdoc import show_doc\n",
    "from IPython.display import Markdown\n",
    "\n",
    "def show_docs(Class):\n",
    "    for k, v in vars(Class).items():\n",
    "        if not k.startswith(\"_\") and callable(v):\n",
    "            display(Markdown(' '))\n",
    "            display(show_doc(getattr(Class, k)))\n"
   ]
  },
  {
   "cell_type": "code",
   "execution_count": null,
   "metadata": {},
   "outputs": [],
   "source": [
    "#| default_exp vis\n"
   ]
  },
  {
   "cell_type": "code",
   "execution_count": null,
   "metadata": {},
   "outputs": [],
   "source": [
    "#| export\n",
    "from IPython.display import SVG\n",
    "import graphviz as gv  \n",
    "\n",
    "class D2API:\n",
    "    @staticmethod\n",
    "    def create_svg(\n",
    "        d2: str, \n",
    "        app: str = 'd2', # requiring installing d2 first\n",
    "        ) -> SVG:\n",
    "        \"\"\" Draw svg via kroki online api or d2 engine.\n",
    "        \n",
    "        See d2 installation [doc](https://d2lang.com/tour/install/).\n",
    "        \"\"\"\n",
    "        if app == 'd2':\n",
    "            import subprocess\n",
    "            d2_fname = \"_temp.d2\"\n",
    "            with open(d2_fname, 'w', encoding='utf-8') as f:\n",
    "                f.write(d2)\n",
    "            output = subprocess.getoutput(f'd2 {d2_fname} - ')\n",
    "            output = output.rsplit('\\n', 1)[0]\n",
    "            res = SVG(output)\n",
    "        elif app == 'kroki':\n",
    "            from kroki import diagram_image\n",
    "            # slow\n",
    "            res = diagram_image(d2, diagram_type='d2', output_format='svg')\n",
    "        return res\n",
    "\n"
   ]
  },
  {
   "cell_type": "code",
   "execution_count": null,
   "metadata": {},
   "outputs": [
    {
     "data": {
      "text/markdown": [
       " "
      ],
      "text/plain": [
       "<IPython.core.display.Markdown object>"
      ]
     },
     "metadata": {},
     "output_type": "display_data"
    },
    {
     "data": {
      "text/markdown": [
       "---\n",
       "\n",
       "[source](https://github.com/felidz/carport/blob/main/carport/vis.py#L12){target=\"_blank\" style=\"float:right; font-size:smaller\"}\n",
       "\n",
       "### D2API.create_svg\n",
       "\n",
       ">      D2API.create_svg (d2:str, app:str='d2')\n",
       "\n",
       "Draw svg via kroki online api or d2 engine.\n",
       "\n",
       "See d2 installation [doc](https://d2lang.com/tour/install/).\n",
       "\n",
       "|    | **Type** | **Default** | **Details** |\n",
       "| -- | -------- | ----------- | ----------- |\n",
       "| d2 | str |  |  |\n",
       "| app | str | d2 | requiring installing d2 first |\n",
       "| **Returns** | **SVG** |  |  |"
      ],
      "text/plain": [
       "---\n",
       "\n",
       "[source](https://github.com/felidz/carport/blob/main/carport/vis.py#L12){target=\"_blank\" style=\"float:right; font-size:smaller\"}\n",
       "\n",
       "### D2API.create_svg\n",
       "\n",
       ">      D2API.create_svg (d2:str, app:str='d2')\n",
       "\n",
       "Draw svg via kroki online api or d2 engine.\n",
       "\n",
       "See d2 installation [doc](https://d2lang.com/tour/install/).\n",
       "\n",
       "|    | **Type** | **Default** | **Details** |\n",
       "| -- | -------- | ----------- | ----------- |\n",
       "| d2 | str |  |  |\n",
       "| app | str | d2 | requiring installing d2 first |\n",
       "| **Returns** | **SVG** |  |  |"
      ]
     },
     "metadata": {},
     "output_type": "display_data"
    }
   ],
   "source": [
    "show_docs(D2API)\n"
   ]
  },
  {
   "cell_type": "code",
   "execution_count": null,
   "metadata": {},
   "outputs": [],
   "source": [
    "#| export\n",
    "def dot2graph(dot, **kw): \n",
    "    gv_g = gv.Digraph()\n",
    "    gv_g.body += str(gv.Source(dot)).splitlines()[1: -1]  # read dot string\n",
    "    gv_g.attr(rankdir='LR', **kw)\n",
    "    gv_g.node_attr = {'fontname': 'fira code retina', **kw}\n",
    "    return gv_g\n"
   ]
  },
  {
   "cell_type": "code",
   "execution_count": null,
   "metadata": {},
   "outputs": [],
   "source": [
    "#| export\n",
    "def d22graph(d2_string, app='kroki'): \n",
    "    return D2API.create_svg(d2_string, app=app)\n"
   ]
  },
  {
   "cell_type": "code",
   "execution_count": null,
   "metadata": {},
   "outputs": [],
   "source": []
  },
  {
   "cell_type": "code",
   "execution_count": null,
   "metadata": {},
   "outputs": [],
   "source": [
    "#| hide\n",
    "import nbdev\n",
    "nbdev.nbdev_export()\n"
   ]
  }
 ],
 "metadata": {
  "kernelspec": {
   "display_name": "python3",
   "language": "python",
   "name": "python3"
  }
 },
 "nbformat": 4,
 "nbformat_minor": 2
}
