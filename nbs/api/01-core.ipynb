{
 "cells": [
  {
   "cell_type": "markdown",
   "metadata": {},
   "source": [
    "# core"
   ]
  },
  {
   "cell_type": "markdown",
   "metadata": {},
   "source": [
    "Core codes for carport."
   ]
  },
  {
   "cell_type": "code",
   "execution_count": null,
   "metadata": {},
   "outputs": [],
   "source": [
    "#| default_exp core\n"
   ]
  },
  {
   "cell_type": "code",
   "execution_count": null,
   "metadata": {},
   "outputs": [],
   "source": [
    "#| hide\n",
    "from nbdev.showdoc import show_doc\n",
    "from IPython.display import Markdown\n",
    "\n",
    "def show_docs(Class):\n",
    "    for k, v in vars(Class).items():\n",
    "        if not k.startswith(\"_\") and callable(v):\n",
    "            display(Markdown(' '))\n",
    "            display(show_doc(getattr(Class, k)))\n"
   ]
  },
  {
   "cell_type": "code",
   "execution_count": null,
   "metadata": {},
   "outputs": [],
   "source": []
  },
  {
   "cell_type": "code",
   "execution_count": null,
   "metadata": {},
   "outputs": [],
   "source": [
    "#| export\n",
    "import ast \n",
    "from pathlib import Path \n",
    "\n",
    "\n",
    "def module2path(mod_name: str, root: str='.') -> Path: \n",
    "    return root/Path(*mod_name.split('.')).with_suffix('.py')\n",
    "\n",
    "def path2module(path: str, root: str='.') -> str: \n",
    "    def str2abs(p): return Path(p).absolute()\n",
    "    rel_path = str2abs(path).relative_to(str2abs(root))\n",
    "    return '.'.join(rel_path.with_suffix(\"\").parts)\n"
   ]
  },
  {
   "cell_type": "code",
   "execution_count": null,
   "metadata": {},
   "outputs": [],
   "source": [
    "#| exporti\n",
    "def psplit(path: str, sep: str='.') -> list: \n",
    "    p = path.split(sep)\n",
    "    return [sep.join(p[: i+1]) for i, _ in enumerate(p)]\n",
    "\n",
    "# TODO: imports in __inin__.py\n",
    "def del_init(mod_name: str) -> str: \n",
    "    if mod_name.endswith(\".__init__\") : \n",
    "        return mod_name.replace('.__init__', '') \n",
    "    return mod_name \n",
    "    \n",
    "def add_init(mod_name: str) -> str: \n",
    "    if mod_name.endswith(\".__init__\"): \n",
    "        return mod_name \n",
    "    return f\"{mod_name}.__init__\"\n"
   ]
  },
  {
   "cell_type": "code",
   "execution_count": null,
   "metadata": {},
   "outputs": [],
   "source": [
    "#| export\n",
    "def imps_from_file(path: Path, root: str='.') -> set: \n",
    "    code = path.read_text(encoding=\"utf8\")\n",
    "    mod_ast = ast.parse(source=code, filename=path)\n",
    "    imps = set()\n",
    "    for node in ast.walk(mod_ast): \n",
    "        # parse imports\n",
    "        if isinstance(node, ast.Import): \n",
    "            for n_ast in node.names: \n",
    "                imported = (None, n_ast.name, n_ast.asname, None)\n",
    "        elif isinstance(node, ast.ImportFrom): \n",
    "            # display(ast.dump(node))\n",
    "            for n_ast in node.names: \n",
    "                imported = (node.module, n_ast.name, n_ast.asname, node.level)\n",
    "        else: \n",
    "            continue   \n",
    "        # translate (where, imported_name, as_name, level)\n",
    "        where, imported_name, _, level = imported\n",
    "        if level is None: \n",
    "            imp = imported_name\n",
    "        elif level == 0: \n",
    "            imp = f\"{where}.{imported_name}\"\n",
    "        else: \n",
    "            pa_mod = path2module(Path(*path.parts[: -level]), root)\n",
    "            imp = f\"{pa_mod}.{where}.{imported_name}\"\n",
    "        imps.add(imp)\n",
    "    return imps\n"
   ]
  },
  {
   "cell_type": "code",
   "execution_count": null,
   "metadata": {},
   "outputs": [],
   "source": [
    "#| export\n",
    "def get_imps(\n",
    "    root: str='.', # directory where to look for import structure\n",
    "    project: str='', # name of concerned project module \n",
    "    agg_external: bool = True, # whether to aggregate external imports by subsuming descendant modules\n",
    "    agg_internal: bool = True  # whether to aggregate internal imports by subsuming non-modular leaves\n",
    "    ): \n",
    "    mod2path = {}\n",
    "    mod2imp_in, mod2imp_ex = {}, {}\n",
    "    mod2imppath_in = {}  # todo: mod2imppath_ex \n",
    "    root = Path(root).absolute()\n",
    "    for path in (root/project).rglob(\"*.py\"): \n",
    "        mod = path2module(path, root)\n",
    "        imps = imps_from_file(path, root) \n",
    "        mod2path[mod] = path\n",
    "        for imp in imps: \n",
    "            imp_root = imp.split('.')[0]  # snake root \n",
    "            if imp_root == project: # i.e., imported module is an internal module\n",
    "                if agg_internal: \n",
    "                    imp_path = module2path(imp, root)\n",
    "                    imp = imp if imp_path.exists() else imp.rsplit('.', 1)[0] \n",
    "                mod2imp_in.setdefault(mod, set()).add(imp)\n",
    "                mod2imppath_in.setdefault(mod, set()).add(imp_path)\n",
    "            else: \n",
    "                imp = imp_root if agg_external else imp\n",
    "                mod2imp_ex.setdefault(mod, set()).add(imp) \n",
    "    return dict(\n",
    "        mod2path=mod2path,\n",
    "        mod2imp_in=mod2imp_in, \n",
    "        mod2imp_ex=mod2imp_ex, \n",
    "        mod2imppath_in=mod2imppath_in,\n",
    "    )\n"
   ]
  },
  {
   "cell_type": "code",
   "execution_count": null,
   "metadata": {},
   "outputs": [],
   "source": [
    "#| export\n",
    "class ImportGraph: \n",
    "    def __init__(self, root: str='.', project: str='', **kwargs): \n",
    "        for k, v in get_imps(root, project, **kwargs).items(): \n",
    "            setattr(self, k, v)\n",
    "        self._edges = [\n",
    "            *[(fr, to, {'type': 'internal'}) for to, frs in self.mod2imp_in.items() for fr in frs],\n",
    "            *[(fr, to, {'type': 'external'}) for to, frs in self.mod2imp_ex.items() for fr in frs],\n",
    "            ]\n",
    "        self.edges = [(fr, to) for fr, to, data in self._edges]\n",
    "        self.nodes = sorted(set().union(*self.edges))\n",
    "    \n",
    "    def to_nx(self, ignore_nodes=[], **kw): \n",
    "        import networkx as nx\n",
    "        \n",
    "        g = nx.MultiDiGraph(self.edges)\n",
    "        g.remove_nodes_from(ignore_nodes)\n",
    "        return g\n",
    "    \n",
    "    def to_dot(self, path=None, **kw): \n",
    "        \"\"\" See networkx [drawing module](https://networkx.org/documentation/stable/reference/drawing.html).\n",
    "        \"\"\"\n",
    "        import networkx as nx\n",
    "        from io import StringIO\n",
    "        \n",
    "        string_io = StringIO() \n",
    "        g = self.to_nx(**kw)\n",
    "        nx.nx_pydot.write_dot(g, path or string_io) \n",
    "        return string_io.getvalue()\n",
    "    \n",
    "    def to_d2(self, ignore_nodes=[], **kw): \n",
    "        \"\"\" Alternatives: [`py_d2`](https://github.com/MrBlenny/py-d2) may be a better way to do this.\n",
    "        \"\"\"\n",
    "        # \n",
    "        e_string = '\\n'.join({f\"{fr} -> {to}\" for fr, to in self.edges})\n",
    "        \n",
    "        deletes_hooks = '\\n'.join(f\"{i}: null\" for i in ignore_nodes) if ignore_nodes else \"\"\n",
    "        options = '''\n",
    "        vars: { \n",
    "            d2-config: { \n",
    "                layout-engine: elk \n",
    "                } \n",
    "            }\n",
    "        direction: right\n",
    "        **.style.border-radius: 99\n",
    "        *.style.font: mono\n",
    "        '''\n",
    "        # theme-id: 200\n",
    "        d2_string = f\"{options}\\n{e_string}\\n{deletes_hooks}\"\n",
    "        return  d2_string\n",
    "\n",
    "    def draw_dot(self, **kw): \n",
    "        from carport.vis import dot2graph\n",
    "        dot = self.to_dot(**kw)\n",
    "        return dot2graph(dot)\n",
    "    \n",
    "    def draw_d2(self, app='kroki', **kw): \n",
    "        from carport.vis import d22graph\n",
    "        d2 = self.to_d2(**kw) \n",
    "        return d22graph(d2, app=app)\n"
   ]
  },
  {
   "cell_type": "code",
   "execution_count": null,
   "metadata": {},
   "outputs": [
    {
     "data": {
      "text/markdown": [
       " "
      ],
      "text/plain": [
       "<IPython.core.display.Markdown object>"
      ]
     },
     "metadata": {},
     "output_type": "display_data"
    },
    {
     "data": {
      "text/markdown": [
       "---\n",
       "\n",
       "[source](https://github.com/felidz/carport/blob/main/carport/core.py#L112){target=\"_blank\" style=\"float:right; font-size:smaller\"}\n",
       "\n",
       "### ImportGraph.to_nx\n",
       "\n",
       ">      ImportGraph.to_nx (ignore_nodes=[], **kw)"
      ],
      "text/plain": [
       "---\n",
       "\n",
       "[source](https://github.com/felidz/carport/blob/main/carport/core.py#L112){target=\"_blank\" style=\"float:right; font-size:smaller\"}\n",
       "\n",
       "### ImportGraph.to_nx\n",
       "\n",
       ">      ImportGraph.to_nx (ignore_nodes=[], **kw)"
      ]
     },
     "metadata": {},
     "output_type": "display_data"
    },
    {
     "data": {
      "text/markdown": [
       " "
      ],
      "text/plain": [
       "<IPython.core.display.Markdown object>"
      ]
     },
     "metadata": {},
     "output_type": "display_data"
    },
    {
     "data": {
      "text/markdown": [
       "---\n",
       "\n",
       "[source](https://github.com/felidz/carport/blob/main/carport/core.py#L119){target=\"_blank\" style=\"float:right; font-size:smaller\"}\n",
       "\n",
       "### ImportGraph.to_dot\n",
       "\n",
       ">      ImportGraph.to_dot (path=None, **kw)\n",
       "\n",
       "See networkx [drawing module](https://networkx.org/documentation/stable/reference/drawing.html)."
      ],
      "text/plain": [
       "---\n",
       "\n",
       "[source](https://github.com/felidz/carport/blob/main/carport/core.py#L119){target=\"_blank\" style=\"float:right; font-size:smaller\"}\n",
       "\n",
       "### ImportGraph.to_dot\n",
       "\n",
       ">      ImportGraph.to_dot (path=None, **kw)\n",
       "\n",
       "See networkx [drawing module](https://networkx.org/documentation/stable/reference/drawing.html)."
      ]
     },
     "metadata": {},
     "output_type": "display_data"
    },
    {
     "data": {
      "text/markdown": [
       " "
      ],
      "text/plain": [
       "<IPython.core.display.Markdown object>"
      ]
     },
     "metadata": {},
     "output_type": "display_data"
    },
    {
     "data": {
      "text/markdown": [
       "---\n",
       "\n",
       "[source](https://github.com/felidz/carport/blob/main/carport/core.py#L130){target=\"_blank\" style=\"float:right; font-size:smaller\"}\n",
       "\n",
       "### ImportGraph.to_d2\n",
       "\n",
       ">      ImportGraph.to_d2 (ignore_nodes=[], **kw)\n",
       "\n",
       "Alternatives: [`py_d2`](https://github.com/MrBlenny/py-d2) may be a better way to do this."
      ],
      "text/plain": [
       "---\n",
       "\n",
       "[source](https://github.com/felidz/carport/blob/main/carport/core.py#L130){target=\"_blank\" style=\"float:right; font-size:smaller\"}\n",
       "\n",
       "### ImportGraph.to_d2\n",
       "\n",
       ">      ImportGraph.to_d2 (ignore_nodes=[], **kw)\n",
       "\n",
       "Alternatives: [`py_d2`](https://github.com/MrBlenny/py-d2) may be a better way to do this."
      ]
     },
     "metadata": {},
     "output_type": "display_data"
    },
    {
     "data": {
      "text/markdown": [
       " "
      ],
      "text/plain": [
       "<IPython.core.display.Markdown object>"
      ]
     },
     "metadata": {},
     "output_type": "display_data"
    },
    {
     "data": {
      "text/markdown": [
       "---\n",
       "\n",
       "[source](https://github.com/felidz/carport/blob/main/carport/core.py#L150){target=\"_blank\" style=\"float:right; font-size:smaller\"}\n",
       "\n",
       "### ImportGraph.draw_dot\n",
       "\n",
       ">      ImportGraph.draw_dot (**kw)"
      ],
      "text/plain": [
       "---\n",
       "\n",
       "[source](https://github.com/felidz/carport/blob/main/carport/core.py#L150){target=\"_blank\" style=\"float:right; font-size:smaller\"}\n",
       "\n",
       "### ImportGraph.draw_dot\n",
       "\n",
       ">      ImportGraph.draw_dot (**kw)"
      ]
     },
     "metadata": {},
     "output_type": "display_data"
    },
    {
     "data": {
      "text/markdown": [
       " "
      ],
      "text/plain": [
       "<IPython.core.display.Markdown object>"
      ]
     },
     "metadata": {},
     "output_type": "display_data"
    },
    {
     "data": {
      "text/markdown": [
       "---\n",
       "\n",
       "[source](https://github.com/felidz/carport/blob/main/carport/core.py#L155){target=\"_blank\" style=\"float:right; font-size:smaller\"}\n",
       "\n",
       "### ImportGraph.draw_d2\n",
       "\n",
       ">      ImportGraph.draw_d2 (app='kroki', **kw)"
      ],
      "text/plain": [
       "---\n",
       "\n",
       "[source](https://github.com/felidz/carport/blob/main/carport/core.py#L155){target=\"_blank\" style=\"float:right; font-size:smaller\"}\n",
       "\n",
       "### ImportGraph.draw_d2\n",
       "\n",
       ">      ImportGraph.draw_d2 (app='kroki', **kw)"
      ]
     },
     "metadata": {},
     "output_type": "display_data"
    }
   ],
   "source": [
    "show_docs(ImportGraph)\n"
   ]
  },
  {
   "cell_type": "code",
   "execution_count": null,
   "metadata": {},
   "outputs": [],
   "source": []
  },
  {
   "cell_type": "code",
   "execution_count": null,
   "metadata": {},
   "outputs": [],
   "source": [
    "#| hide\n",
    "import nbdev\n",
    "nbdev.nbdev_export()\n"
   ]
  }
 ],
 "metadata": {
  "kernelspec": {
   "display_name": "python3",
   "language": "python",
   "name": "python3"
  }
 },
 "nbformat": 4,
 "nbformat_minor": 2
}
