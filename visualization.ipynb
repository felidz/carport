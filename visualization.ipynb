{
 "cells": [
  {
   "cell_type": "markdown",
   "metadata": {},
   "source": [
    "[kroki-online](https://kroki.io/)\n",
    "\n",
    "[kroki-python-interface](https://github.com/thorwhalen/kroki)\n",
    "\n",
    "\n",
    "[d2-doc](https://d2lang.com/tour/text)\n",
    "\n",
    "[d2-online](https://play.d2lang.com/)\n",
    "\n",
    "[d2-python-generator](https://github.com/MrBlenny/py-d2)\n",
    "\n",
    "\n"
   ]
  },
  {
   "cell_type": "code",
   "execution_count": null,
   "metadata": {},
   "outputs": [],
   "source": [
    "# # run javascript \n",
    "# from IPython.display import display, HTML\n",
    "# js = \"<script>print('Hello World!');</script>\"\n",
    "# display(HTML(js))\n"
   ]
  },
  {
   "cell_type": "code",
   "execution_count": null,
   "metadata": {},
   "outputs": [],
   "source": [
    "# 这种接口一般是面向熟悉 python 而不熟悉 d2 语法的用户\n",
    "\n",
    "# from py_d2 import D2Diagram, D2Shape, D2Connection, D2Style\n",
    "\n",
    "# shapes = [\n",
    "#     D2Shape(name=\"shape_name1\", style=D2Style(fill=\"red\")),\n",
    "#     D2Shape(name=\"shape_name2\", style=D2Style(fill=\"blue\"))]\n",
    "# connections = [\n",
    "#     D2Connection(shape_1=\"shape_name1\", shape_2=\"shape_name2\")\n",
    "# ]\n",
    "\n",
    "# diagram = D2Diagram(shapes=shapes, connections=connections)\n",
    "\n",
    "# with open(\"graph.d2\", \"w\", encoding=\"utf-8\") as f:\n",
    "#     f.write(str(diagram))\n"
   ]
  },
  {
   "cell_type": "code",
   "execution_count": null,
   "metadata": {},
   "outputs": [],
   "source": [
    "from IPython.display import SVG\n",
    "\n",
    "class API:\n",
    "    @staticmethod\n",
    "    def create_svg(d2:str, app:str='d2') -> SVG:\n",
    "        if app == 'd2':\n",
    "            import subprocess\n",
    "            d2_fname = \"_temp.d2\"\n",
    "            with open(d2_fname, 'w', encoding='utf-8') as f:\n",
    "                f.write(d2)\n",
    "            output = subprocess.getoutput(f'd2 {d2_fname} - ')\n",
    "            output = output.rsplit('\\n',1)[0]\n",
    "            res = SVG(output)\n",
    "        elif app == 'kroki':\n",
    "            from kroki import diagram_image\n",
    "            # too slow, 10s\n",
    "            res = diagram_image(d2, diagram_type='d2', output_format='svg')\n",
    "        return res\n",
    "\n",
    "class D2(API):\n",
    "    def nx2(self, output):\n",
    "        pass\n",
    "\n",
    "d2 = D2\n"
   ]
  },
  {
   "cell_type": "code",
   "execution_count": null,
   "metadata": {},
   "outputs": [],
   "source": [
    "# import networkx as nx \n",
    "# import pydot as dt \n",
    "\n",
    "# g = nx.nx_pydot.from_pydot(dt.graph_from_dot_data(dot)[0])\n",
    "\n",
    "\n",
    "# # ignores = ['re', 'io', 'itertools', 'argparse']\n",
    "# # ignores += [node for node in g.nodes() if node.endswith(\".utils\")]\n",
    "# # g.remove_nodes_from(ignores)\n",
    "\n",
    "# # agg external packages\n",
    "# replaces = [(n.split('.')[0], n) for n in g.nodes \n",
    "#             if \".\" in n and project_name not in n]\n",
    "# replaces = []\n",
    "# res = set()\n",
    "# for fr, to, _ in g.edges:\n",
    "#     if replaces:\n",
    "#         for root, desc in replaces:\n",
    "#             fr = fr.replace(desc, root)\n",
    "#     res |= {f\"{fr} -> {to}\"}\n",
    "    \n",
    "# e_string = '\\n'.join(res)\n",
    "\n",
    "# deletes = [\"*.utils\", 're', 'io', 'itertools', 'argparse']\n",
    "# deletes = []\n",
    "# deletes_hooks = '\\n'.join(f\"{i}: null\" for i in deletes) if deletes else \"\"\n",
    "\n",
    "# options = '''\n",
    "# vars: { \n",
    "#     d2-config: { \n",
    "#         layout-engine: elk \n",
    "#         theme-id: 200\n",
    "#         } \n",
    "#     }\n",
    "# direction: right\n",
    "# **.style.border-radius: 99\n",
    "# '''\n",
    "# # **.shape: oval \n",
    "\n",
    "# d2_string = f\"{options}\\n{e_string}\\n{deletes_hooks}\"\n",
    "\n",
    "# # D2API(d2_string).svg('kroki')\n",
    "# d2.create_svg(d2_string)\n"
   ]
  },
  {
   "cell_type": "code",
   "execution_count": null,
   "metadata": {},
   "outputs": [],
   "source": []
  },
  {
   "cell_type": "code",
   "execution_count": null,
   "metadata": {},
   "outputs": [],
   "source": []
  }
 ],
 "metadata": {
  "kernelspec": {
   "display_name": "python3",
   "language": "python",
   "name": "python3"
  },
  "language_info": {
   "codemirror_mode": {
    "name": "ipython",
    "version": 3
   },
   "file_extension": ".py",
   "mimetype": "text/x-python",
   "name": "python",
   "nbconvert_exporter": "python",
   "pygments_lexer": "ipython3",
   "version": "3.11.5"
  }
 },
 "nbformat": 4,
 "nbformat_minor": 2
}
